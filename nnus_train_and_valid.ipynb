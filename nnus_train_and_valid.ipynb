{
  "nbformat": 4,
  "nbformat_minor": 0,
  "metadata": {
    "colab": {
      "provenance": [],
      "include_colab_link": true
    },
    "kernelspec": {
      "name": "python3",
      "display_name": "Python 3"
    },
    "language_info": {
      "name": "python"
    },
    "accelerator": "GPU",
    "gpuClass": "standard"
  },
  "cells": [
    {
      "cell_type": "markdown",
      "metadata": {
        "id": "view-in-github",
        "colab_type": "text"
      },
      "source": [
        "<a href=\"https://colab.research.google.com/github/joo053/Neck-Ultrasound-Dataset/blob/main/nnus_train_and_valid.ipynb\" target=\"_parent\"><img src=\"https://colab.research.google.com/assets/colab-badge.svg\" alt=\"Open In Colab\"/></a>"
      ]
    },
    {
      "cell_type": "code",
      "execution_count": null,
      "metadata": {
        "id": "3yXsUu51_N8Y",
        "collapsed": true
      },
      "outputs": [],
      "source": [
        "!git clone https://github.com/ultralytics/yolov5  # clone"
      ]
    },
    {
      "cell_type": "code",
      "source": [
        "from google.colab import drive\n",
        "drive.mount('/content/drive')"
      ],
      "metadata": {
        "id": "8YdSyhRQcAut"
      },
      "execution_count": null,
      "outputs": []
    },
    {
      "cell_type": "code",
      "source": [
        "pip install -r ./yolov5/requirements.txt"
      ],
      "metadata": {
        "id": "pcXkirJO_nRn"
      },
      "execution_count": null,
      "outputs": []
    },
    {
      "cell_type": "code",
      "source": [
        "%cd /content/yolov5/data"
      ],
      "metadata": {
        "id": "7fkFy53I_sNV"
      },
      "execution_count": null,
      "outputs": []
    },
    {
      "cell_type": "code",
      "source": [
        "!cp /content/drive/MyDrive/2022_Shingu/data.zip /content/yolov5/data"
      ],
      "metadata": {
        "id": "ScpkN5WjG0gs"
      },
      "execution_count": null,
      "outputs": []
    },
    {
      "cell_type": "markdown",
      "source": [],
      "metadata": {
        "id": "Eiq_50v5G5w1"
      }
    },
    {
      "cell_type": "code",
      "source": [
        "!unzip -qq \"data.zip\""
      ],
      "metadata": {
        "id": "_aLJyUouCJXK"
      },
      "execution_count": null,
      "outputs": []
    },
    {
      "cell_type": "code",
      "source": [
        "%cd .."
      ],
      "metadata": {
        "id": "tQ92CRpqCLk7"
      },
      "execution_count": null,
      "outputs": []
    },
    {
      "cell_type": "code",
      "source": [
        "!cat ./data/sono/classes.txt"
      ],
      "metadata": {
        "id": "xIkBuIoTHhPL"
      },
      "execution_count": null,
      "outputs": []
    },
    {
      "cell_type": "code",
      "source": [
        "!pip install wandb"
      ],
      "metadata": {
        "id": "TnRig6unCZ-k"
      },
      "execution_count": null,
      "outputs": []
    },
    {
      "cell_type": "code",
      "source": [
        "!wandb login"
      ],
      "metadata": {
        "id": "2id2KssMCv-J"
      },
      "execution_count": null,
      "outputs": []
    },
    {
      "cell_type": "code",
      "source": [
        "!python train.py --img 640 --batch 32 --epochs 100 --data sono.yaml --weights yolov5s.pt"
      ],
      "metadata": {
        "id": "LV-DxhsMDMjN"
      },
      "execution_count": null,
      "outputs": []
    },
    {
      "cell_type": "code",
      "source": [
        "!cp /content/drive/MyDrive/2022_Shingu/Thyroid_test_video_AdobeExpress.mp4 /content/yolov5/data"
      ],
      "metadata": {
        "id": "uoTUFimkID5i"
      },
      "execution_count": null,
      "outputs": []
    },
    {
      "cell_type": "code",
      "source": [
        "!pwd"
      ],
      "metadata": {
        "id": "SWbbi4VTITW5"
      },
      "execution_count": null,
      "outputs": []
    },
    {
      "cell_type": "code",
      "source": [],
      "metadata": {
        "id": "6DB4pwHqIrnO"
      },
      "execution_count": null,
      "outputs": []
    },
    {
      "cell_type": "code",
      "source": [
        "!cp -r /content/drive/MyDrive/2022_Shingu/exp3 /content/yolov5/runs/train"
      ],
      "metadata": {
        "id": "ixMR9sbZIpjE"
      },
      "execution_count": null,
      "outputs": []
    },
    {
      "cell_type": "code",
      "source": [
        "!python detect.py --weights ./runs/train/exp3/weights/best.pt --source \"./data/Thyroid_test_video_AdobeExpress.mp4\" --device 0 --conf-thres 0.5 --data /content/yolov5/data/sono.yaml"
      ],
      "metadata": {
        "id": "W38J6OOvDdzT"
      },
      "execution_count": null,
      "outputs": []
    },
    {
      "cell_type": "code",
      "source": [
        "!cp /content/yolov5/runs/detect/exp2/Thyroid_test_video_AdobeExpress.mp4 "
      ],
      "metadata": {
        "id": "k6Bue1G6JHJQ"
      },
      "execution_count": null,
      "outputs": []
    },
    {
      "cell_type": "code",
      "source": [
        "!nvidia-smi"
      ],
      "metadata": {
        "id": "iyEYymgXLzrO"
      },
      "execution_count": null,
      "outputs": []
    },
    {
      "cell_type": "code",
      "source": [
        "!python val.py --weights /content/yolov5/runs/train/exp3/weights/best.pt --data /content/yolov5/data/sono.yaml --img 640"
      ],
      "metadata": {
        "id": "P2hA3q0QNVTx"
      },
      "execution_count": null,
      "outputs": []
    },
    {
      "cell_type": "code",
      "source": [
        "!cp -r /content/yolov5/runs/val/exp3 /content/drive/MyDrive/2022_Shingu/result_3"
      ],
      "metadata": {
        "id": "aae_bwTSP6VR"
      },
      "execution_count": null,
      "outputs": []
    }
  ]
}